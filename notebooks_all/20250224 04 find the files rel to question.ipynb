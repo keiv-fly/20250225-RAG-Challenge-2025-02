{
 "cells": [
  {
   "cell_type": "code",
   "execution_count": 1,
   "metadata": {},
   "outputs": [],
   "source": [
    "import openai\n",
    "import pandas as pd\n",
    "import tqdm\n",
    "\n",
    "from pydantic import BaseModel, Field\n",
    "from typing import Optional, List, Union, Literal\n",
    "\n",
    "import json"
   ]
  },
  {
   "cell_type": "code",
   "execution_count": 2,
   "metadata": {},
   "outputs": [],
   "source": [
    "with open(\"../tokens/openai_token.txt\") as f:\n",
    "    openai_token = f.read()"
   ]
  },
  {
   "cell_type": "code",
   "execution_count": 3,
   "metadata": {},
   "outputs": [],
   "source": [
    "class Question(BaseModel):\n",
    "    text: str\n",
    "    kind: Literal[\"number\", \"name\", \"boolean\", \"names\"]\n",
    "\n",
    "class SourceReference(BaseModel):\n",
    "    pdf_sha1: str = Field(..., description=\"SHA1 hash of the PDF file\")\n",
    "    page_index: int = Field(..., description=\"Physical page number in the PDF file\")\n",
    "\n",
    "class Answer(BaseModel):\n",
    "    question_text: Optional[str] = Field(None, description=\"Text of the question\")\n",
    "    kind: Optional[Literal[\"number\", \"name\", \"boolean\", \"names\"]] = Field(None, description=\"Kind of the question\")\n",
    "    value: Union[float, str, bool, List[str], Literal[\"N/A\"]] = Field(..., description=\"Answer to the question, according to the question schema\")\n",
    "    references: List[SourceReference] = Field([], description=\"References to the source material in the PDF file\")\n",
    "\n",
    "class AnswerSubmission(BaseModel):\n",
    "    team_email: str = Field(..., description=\"Email that your team used to register for the challenge\")\n",
    "    submission_name: str = Field(..., description=\"Unique name of the submission (e.g. experiment name)\")\n",
    "    answers: List[Answer] = Field(..., description=\"List of answers to the questions\")"
   ]
  },
  {
   "cell_type": "code",
   "execution_count": 4,
   "metadata": {},
   "outputs": [
    {
     "name": "stdout",
     "output_type": "stream",
     "text": [
      "[Question(text=\"According to the annual report, what is the Operating margin (%) for Altech Chemicals Ltd  (within the last period or at the end of the last period)? If data is not available, return 'N/A'.\", kind='number')]\n",
      "{'sha1': '0a9e39e1d2e176f3a766a0e86af82772f1654a6e', 'cur': 'USD', 'company_name': 'KeyCorp', 'major_industry': 'Financial Services', 'mentions_recent_mergers_and_acquisitions': True, 'has_leadership_changes': True, 'has_layoffs': False, 'has_executive_compensation': True, 'has_rnd_investment_numbers': True, 'has_new_product_launches': True, 'has_capital_expenditures': True, 'has_financial_performance_indicators': True, 'has_dividend_policy_changes': True, 'has_share_buyback_plans': True, 'has_capital_structure_changes': False, 'mentions_new_risk_factors': True, 'has_guidance_updates': True, 'has_regulatory_or_litigation_issues': True, 'has_strategic_restructuring': False, 'has_supply_chain_disruptions': False, 'has_esg_initiatives': True}\n"
     ]
    }
   ],
   "source": [
    "with open(\"../data_in/questions.json\") as f:\n",
    "    questions = json.loads(f.read())\n",
    "questions_typed = [Question(**x) for x in questions]\n",
    "print(questions_typed[:1])\n",
    "\n",
    "with open(\"../data_in/subset.json\") as f:\n",
    "    subset = json.loads(f.read())\n",
    "print(subset[0])"
   ]
  },
  {
   "cell_type": "code",
   "execution_count": 5,
   "metadata": {},
   "outputs": [
    {
     "data": {
      "text/plain": [
       "['KeyCorp',\n",
       " 'Summit Materials, Inc.',\n",
       " 'Gibson Energy Inc.',\n",
       " 'HCW Biologics Inc.',\n",
       " 'Essential Metals Limited',\n",
       " 'EVI Industries, Inc.',\n",
       " 'Koenig & Bauer AG',\n",
       " 'Microchip Technology Incorporated',\n",
       " 'Corbus Pharmaceuticals Holdings, Inc.',\n",
       " 'Audalia Resources Limited',\n",
       " 'Enerflex Ltd.',\n",
       " 'MFA Financial, Inc.',\n",
       " 'Strike Resources Limited',\n",
       " 'Altech Chemicals Ltd',\n",
       " 'HV Bancorp, Inc.',\n",
       " 'Zymeworks Inc.',\n",
       " 'iBio, Inc.',\n",
       " 'Winnebago Industries, Inc.',\n",
       " 'Terns Pharmaceuticals, Inc.',\n",
       " 'Canadian Tire Corporation',\n",
       " 'Prodigy Gold NL',\n",
       " 'Alien Metals Limited',\n",
       " 'Urban Logistics REIT plc',\n",
       " 'Xero Limited',\n",
       " 'Dunedin Enterprise Investment Trust PLC',\n",
       " 'Cofinimmo',\n",
       " 'Maxeon Solar Technologies, Ltd.',\n",
       " 'Hagerty, Inc.',\n",
       " 'Universal Electronics Inc.',\n",
       " 'Lipocine Inc.',\n",
       " 'ICICI Bank',\n",
       " 'CareTrust REIT, Inc.',\n",
       " 'Charles & Colvard, Ltd.',\n",
       " 'Renold plc',\n",
       " 'LVMH',\n",
       " 'Advantage Solutions Inc.',\n",
       " 'Harworth Group plc',\n",
       " 'Johns Lyng Group Limited',\n",
       " 'Nevro Corp.',\n",
       " 'Ameresco, Inc.']"
      ]
     },
     "execution_count": 5,
     "metadata": {},
     "output_type": "execute_result"
    }
   ],
   "source": [
    "subset_companies_list = [x[\"company_name\"] for x in subset]\n",
    "subset_companies_list"
   ]
  },
  {
   "cell_type": "code",
   "execution_count": 6,
   "metadata": {},
   "outputs": [
    {
     "data": {
      "text/plain": [
       "[{'result': ['Altech Chemicals Ltd'], 'result_prob': 1.0},\n",
       " {'result': ['Altech Chemicals Ltd'], 'result_prob': 1.0},\n",
       " {'result': ['Altech Chemicals Ltd'], 'result_prob': 1.0}]"
      ]
     },
     "execution_count": 6,
     "metadata": {},
     "output_type": "execute_result"
    }
   ],
   "source": [
    "class CompanyAnswer(BaseModel):\n",
    "    result: List[str] = Field(..., description=\"List of company names\")\n",
    "    result_prob: float = Field(..., description=\"Probability that the result is the right one\")\n",
    "\n",
    "client = openai.OpenAI(\n",
    "    # This is the default and can be omitted\n",
    "    api_key=openai_token,\n",
    ")\n",
    "\n",
    "question = questions[0]\n",
    "\n",
    "msg = \"Find company names in this question. There could be zero or more company names\"\n",
    "\n",
    "msg += \"\"\"\n",
    "---\n",
    "Output format:\n",
    "The output should start with @@@ and end with @@@. If the result is empty it should still correspond to the JSON schema and the result should be and empty array.\n",
    "The output is a JSON that corresponds to the following schema:\n",
    "{\n",
    "    \"type\": \"object\",\n",
    "    \"properties\": {\n",
    "        \"result\": {\n",
    "            \"description\": \"One company name\",\n",
    "            \"type\": \"array\",\n",
    "            \"items\": {\n",
    "                \"type\": \"string\"\n",
    "            }\n",
    "        },\n",
    "        \"result_prob\": {\n",
    "            \"description\": \"Probability that the result is the right one. Float from 0 to 1.\",\n",
    "            \"type\": \"number\"\n",
    "        }\n",
    "    },\n",
    "    \"required\": [\n",
    "        \"result\",\n",
    "        \"result_prob\",\n",
    "    ]\n",
    "}\n",
    "\"\"\"\n",
    "\n",
    "msg += f\"\"\"\n",
    "---\n",
    "Question:\n",
    "{question}\n",
    "\"\"\"\n",
    "\n",
    "model_answers = []\n",
    "for i in range(3):\n",
    "    chat_completion = client.chat.completions.create(\n",
    "        messages=[\n",
    "            {\n",
    "                \"role\": \"user\",\n",
    "                \"content\": msg,\n",
    "            }\n",
    "        ],\n",
    "        model=\"o1-mini\",\n",
    "    )\n",
    "    ans = chat_completion.choices[0].message.content\n",
    "    ans_l_splitted = ans.split('@@@')\n",
    "    if len(ans_l_splitted) == 3:\n",
    "        ans_splitted = ans_l_splitted[1]\n",
    "        try:\n",
    "            ans_d = json.loads(ans_splitted)\n",
    "            _ = CompanyAnswer(**ans_d)\n",
    "        except:\n",
    "            ans_d = {\n",
    "                \"result\": ans_splitted,\n",
    "                \"result_prob\": 0.0\n",
    "            }\n",
    "    else:\n",
    "        ans_d = {\n",
    "            \"result\": ans,\n",
    "            \"result_prob\": 0.0\n",
    "        }\n",
    "\n",
    "\n",
    "\n",
    "    model_answers.append(ans_d)\n",
    "model_answers"
   ]
  },
  {
   "cell_type": "code",
   "execution_count": 7,
   "metadata": {},
   "outputs": [
    {
     "data": {
      "text/plain": [
       "['Altech Chemicals Ltd']"
      ]
     },
     "execution_count": 7,
     "metadata": {},
     "output_type": "execute_result"
    }
   ],
   "source": [
    "df_result = pd.DataFrame(model_answers)\n",
    "df_result[\"result_prob\"] = pd.to_numeric(df_result[\"result_prob\"], errors=\"coerce\")\n",
    "max_prob = df_result[\"result_prob\"].fillna(0.0).max()\n",
    "df_result[\"result_str\"] = df_result[\"result\"].apply(str)\n",
    "df_result[\"result_votes\"] = df_result.groupby([\"result_str\", \"result_prob\"]).transform(\"count\")\n",
    "df_result_max_prob = df_result[df_result[\"result_prob\"]==max_prob]\n",
    "max_votes = df_result_max_prob[\"result_votes\"].max()\n",
    "list_companies = df_result_max_prob[df_result_max_prob[\"result_votes\"]==max_votes][\"result\"].iloc[0]\n",
    "list_companies"
   ]
  },
  {
   "cell_type": "code",
   "execution_count": null,
   "metadata": {},
   "outputs": [
    {
     "data": {
      "application/vnd.jupyter.widget-view+json": {
       "model_id": "4c1ef18c80c2456b87e96d3f472257b4",
       "version_major": 2,
       "version_minor": 0
      },
      "text/plain": [
       "  0%|          | 0/1 [00:00<?, ?it/s]"
      ]
     },
     "metadata": {},
     "output_type": "display_data"
    },
    {
     "name": "stdout",
     "output_type": "stream",
     "text": [
      "[{'result_name': 'Altech Chemicals Ltd', 'result_list_position': '14', 'result_prob': 1.0}, {'result_name': 'Altech Chemicals Ltd', 'result_list_position': '14', 'result_prob': 1.0}, {'result_name': 'Altech Chemicals Ltd', 'result_list_position': '14', 'result_prob': 1.0}]\n",
      "[13]\n"
     ]
    }
   ],
   "source": [
    "subset_documents_to_look_through = []\n",
    "\n",
    "class ListContainsAnswer(BaseModel):\n",
    "    result_name: str = Field(..., description=\"Company name\")\n",
    "    result_list_position: Union[int, Literal[\"N/A\"]] = Field(..., description=\"Company name\")\n",
    "    result_prob: float = Field(..., description=\"Probability that the result is the right one\")\n",
    "\n",
    "#for company in tqdm.notebook.tqdm(list_companies):\n",
    "for company in list_companies:\n",
    "    company = list_companies[0]\n",
    "    client = openai.OpenAI(\n",
    "        # This is the default and can be omitted\n",
    "        api_key=openai_token,\n",
    "    )\n",
    "\n",
    "    msg = \"Find this company name in the following list. \"\n",
    "\n",
    "    msg += \"\"\"\n",
    "    ---\n",
    "    Output format:\n",
    "    The output should start with @@@ and end with @@@. If the result is empty it should still correspond to the JSON schema and the result should be and empty array.\n",
    "    The output is a JSON that corresponds to the following schema:\n",
    "    {\n",
    "        \"type\": \"object\",\n",
    "        \"properties\": {\n",
    "            \"result_name\": {\n",
    "                \"description\": \"The company name found in list. If not found return N/A\",\n",
    "                \"type\": \"string\",\n",
    "            },\n",
    "            \"result_list_position\": {\n",
    "                \"description\": \"The position of the found company in a list. If not found return N/A\",\n",
    "                \"type\": \"string\",\n",
    "            },\n",
    "            \"result_prob\": {\n",
    "                \"description\": \"Probability that the result is the right one. Float from 0 to 1.\",\n",
    "                \"type\": \"number\"\n",
    "            }\n",
    "        },\n",
    "        \"required\": [\n",
    "            \"result\",\n",
    "            \"result_list_position\",\n",
    "            \"result_prob\",\n",
    "        ]\n",
    "    }\n",
    "    \"\"\"\n",
    "\n",
    "    msg += f\"\"\"\n",
    "    ---\n",
    "    Company name to find:\n",
    "    {company}\n",
    "    ---\n",
    "    List of companies:\n",
    "    \"\"\"\n",
    "\n",
    "    msg+= \"\\n\".join(subset_companies_list)\n",
    "\n",
    "    model_answers = []\n",
    "    for i in range(3):\n",
    "        chat_completion = client.chat.completions.create(\n",
    "            messages=[\n",
    "                {\n",
    "                    \"role\": \"user\",\n",
    "                    \"content\": msg,\n",
    "                }\n",
    "            ],\n",
    "            model=\"o1-mini\",\n",
    "        )\n",
    "        ans = chat_completion.choices[0].message.content\n",
    "        ans_l_splitted = ans.split('@@@')\n",
    "        if len(ans_l_splitted) == 3:\n",
    "            ans_splitted = ans_l_splitted[1]\n",
    "            try:\n",
    "                ans_d = json.loads(ans_splitted)\n",
    "                _ = ListContainsAnswer(**ans_d)\n",
    "            except:\n",
    "                ans_d = {\n",
    "                    \"result\": ans_splitted,\n",
    "                    \"result_prob\": 0.0\n",
    "                }\n",
    "        else:\n",
    "            ans_d = {\n",
    "                \"result\": ans,\n",
    "                \"result_prob\": 0.0\n",
    "            }\n",
    "\n",
    "\n",
    "\n",
    "        model_answers.append(ans_d)\n",
    "    print(model_answers)\n",
    "\n",
    "    df_result = pd.DataFrame(model_answers)\n",
    "    df_result[\"result_prob\"] = pd.to_numeric(df_result[\"result_prob\"], errors=\"coerce\")\n",
    "    max_prob = df_result[\"result_prob\"].fillna(0.0).max()\n",
    "    df_result[\"result_str\"] = df_result[\"result_name\"].apply(str)\n",
    "    df_result[\"result_votes\"] = df_result.groupby([\"result_str\", \"result_prob\"]).transform(\"count\").loc[:,\"result_name\"]\n",
    "    df_result_max_prob = df_result[df_result[\"result_prob\"]==max_prob]\n",
    "    max_votes = df_result_max_prob[\"result_votes\"].max()\n",
    "    company_name_in_list = df_result_max_prob[df_result_max_prob[\"result_votes\"]==max_votes][\"result_str\"].iloc[0]\n",
    "\n",
    "    df_subset = pd.DataFrame({\"subset_company\": subset_companies_list})\n",
    "    subset_documents_to_look_through_i = df_subset[df_subset[\"subset_company\"] == company_name_in_list].index.to_list()\n",
    "    subset_documents_to_look_through += subset_documents_to_look_through_i\n",
    "\n",
    "print(subset_documents_to_look_through)\n"
   ]
  },
  {
   "cell_type": "code",
   "execution_count": null,
   "metadata": {},
   "outputs": [],
   "source": []
  }
 ],
 "metadata": {
  "kernelspec": {
   "display_name": "py312",
   "language": "python",
   "name": "python3"
  },
  "language_info": {
   "codemirror_mode": {
    "name": "ipython",
    "version": 3
   },
   "file_extension": ".py",
   "mimetype": "text/x-python",
   "name": "python",
   "nbconvert_exporter": "python",
   "pygments_lexer": "ipython3",
   "version": "3.12.5"
  }
 },
 "nbformat": 4,
 "nbformat_minor": 2
}
