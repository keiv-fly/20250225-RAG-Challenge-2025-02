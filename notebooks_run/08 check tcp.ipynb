{
 "cells": [
  {
   "cell_type": "code",
   "execution_count": null,
   "metadata": {},
   "outputs": [],
   "source": [
    "from tsp_client import TSPVerifier\n",
    "\n",
    "import hashlib\n",
    "import pathlib\n",
    "import json"
   ]
  },
  {
   "cell_type": "code",
   "execution_count": null,
   "metadata": {},
   "outputs": [],
   "source": [
    "response = json.loads(pathlib.Path(\"../data_out/20250228_184959_Sergey Nikonov main v2/submission_response.json\").read_text())\n",
    "response[\"response\"][\"tsp_verification_data\"]"
   ]
  },
  {
   "cell_type": "code",
   "execution_count": null,
   "metadata": {},
   "outputs": [],
   "source": [
    "# PASTE TSP VERIFICATION DATA HERE (copied from UI or API response)\n",
    "tsp_verification_data = response[\"response\"][\"tsp_verification_data\"]\n",
    "\n",
    "signature = bytes.fromhex(tsp_verification_data['tsp_signature'])\n",
    "server_digest = bytes.fromhex(tsp_verification_data['submission_digest'])  # just fyi\n",
    "\n",
    "submission_bytes = str(tsp_verification_data['submission']).encode(\"utf-8\")\n",
    "current_digest = hashlib.sha512(submission_bytes).digest()\n",
    "\n",
    "try:\n",
    "    verified = TSPVerifier().verify(signature, message_digest=current_digest)\n",
    "    print(\"Submission timestamp:\", verified.tst_info[\"gen_time\"].strftime(\"%Y-%m-%d, %H:%M:%S\"))\n",
    "    print(verified.signed_attrs)\n",
    "    print(\"Verification successful.\")\n",
    "except Exception as e:\n",
    "    print(\"Verification failed:\", e)\n",
    "    print(\"Consider re-uploading your submission.\")"
   ]
  },
  {
   "cell_type": "code",
   "execution_count": null,
   "metadata": {},
   "outputs": [],
   "source": []
  }
 ],
 "metadata": {
  "kernelspec": {
   "display_name": "py312",
   "language": "python",
   "name": "python3"
  },
  "language_info": {
   "codemirror_mode": {
    "name": "ipython",
    "version": 3
   },
   "file_extension": ".py",
   "mimetype": "text/x-python",
   "name": "python",
   "nbconvert_exporter": "python",
   "pygments_lexer": "ipython3",
   "version": "3.12.5"
  }
 },
 "nbformat": 4,
 "nbformat_minor": 2
}
