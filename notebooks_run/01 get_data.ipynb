{
 "cells": [
  {
   "cell_type": "code",
   "execution_count": 1,
   "metadata": {},
   "outputs": [],
   "source": [
    "import httpx"
   ]
  },
  {
   "cell_type": "code",
   "execution_count": 2,
   "metadata": {},
   "outputs": [
    {
     "name": "stdout",
     "output_type": "stream",
     "text": [
      "subset.json: <Response [200 OK]>\n",
      "pdfs.zip: <Response [200 OK]>\n"
     ]
    }
   ],
   "source": [
    "filenames = [\n",
    "    \"subset.json\",\n",
    "    \"pdfs.zip\"\n",
    "]\n",
    "for filename in filenames:\n",
    "    res = httpx.get(f\"https://rag.timetoact.at/data/r2.0/{filename}\")\n",
    "    print(f\"{filename}: {res}\")\n",
    "    file_content = res.content\n",
    "    with open(f\"../data_in/{filename}\", \"wb\") as f:\n",
    "        f.write(file_content)"
   ]
  },
  {
   "cell_type": "code",
   "execution_count": 3,
   "metadata": {},
   "outputs": [
    {
     "name": "stdout",
     "output_type": "stream",
     "text": [
      "questions.json: <Response [200 OK]>\n"
     ]
    }
   ],
   "source": [
    "filenames = [\n",
    "    \"questions.json\",\n",
    "]\n",
    "for filename in filenames:\n",
    "    res = httpx.get(f\"https://rag.timetoact.at/data/r2.0/{filename}\")\n",
    "    print(f\"{filename}: {res}\")\n",
    "    file_content = res.content\n",
    "    with open(f\"../data_in/{filename}\", \"wb\") as f:\n",
    "        f.write(file_content)"
   ]
  },
  {
   "cell_type": "code",
   "execution_count": null,
   "metadata": {},
   "outputs": [],
   "source": []
  }
 ],
 "metadata": {
  "kernelspec": {
   "display_name": "py312",
   "language": "python",
   "name": "python3"
  },
  "language_info": {
   "codemirror_mode": {
    "name": "ipython",
    "version": 3
   },
   "file_extension": ".py",
   "mimetype": "text/x-python",
   "name": "python",
   "nbconvert_exporter": "python",
   "pygments_lexer": "ipython3",
   "version": "3.12.5"
  }
 },
 "nbformat": 4,
 "nbformat_minor": 2
}
