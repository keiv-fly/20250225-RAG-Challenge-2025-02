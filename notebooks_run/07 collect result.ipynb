{
 "cells": [
  {
   "cell_type": "code",
   "execution_count": null,
   "metadata": {},
   "outputs": [],
   "source": [
    "import picologging as logging\n",
    "from pydantic import BaseModel, Field\n",
    "import pandas as pd\n",
    "import httpx\n",
    "\n",
    "import pathlib\n",
    "import datetime\n",
    "import json\n",
    "from typing import Optional, List, Union, Literal\n",
    "import io"
   ]
  },
  {
   "cell_type": "code",
   "execution_count": null,
   "metadata": {},
   "outputs": [],
   "source": [
    "now = datetime.datetime.now()\n",
    "now_str = now.strftime(\"%Y%m%d_%H%M%S\")\n",
    "pathlib.Path(f\"../notebooks_logging/07_collect_result\").mkdir(parents=True, exist_ok=True)\n",
    "pathlib.Path(f\"../notebooks_logging/07_collect_result/{now_str}\").mkdir(parents=True, exist_ok=True)\n",
    "\n",
    "file_handler = logging.FileHandler(f\"../notebooks_logging/07_collect_result/{now_str}.log\")\n",
    "stream_handler = logging.StreamHandler()\n",
    "# stdout_formatter = logging.Formatter(fmt=\"%(message)s\") \n",
    "# stream_handler.setFormatter(stdout_formatter)\n",
    "logging.basicConfig(\n",
    "    encoding='utf-8', \n",
    "    format='%(asctime)s | %(levelname)s | %(message)s', \n",
    "    level=logging.INFO, \n",
    "    datefmt='%Y-%m-%dT%H:%M:%S',\n",
    "    handlers=[\n",
    "        file_handler,\n",
    "        stream_handler,\n",
    "    ],\n",
    "    force=True\n",
    ")\n",
    "logger = logging.getLogger()\n",
    "logger.setLevel(logging.INFO)\n",
    "li = logger.info\n",
    "lw = logger.warning\n",
    "li(\"start\")\n",
    "lw(\"check warning\")"
   ]
  },
  {
   "cell_type": "code",
   "execution_count": null,
   "metadata": {},
   "outputs": [],
   "source": [
    "files4questions = list(pathlib.Path(\"../data_temp/06_ask_questions\").glob(\"*\"))\n",
    "li(f\"files4questions=\\n{\"\\n\".join(str(x) for x in files4questions)}\")"
   ]
  },
  {
   "cell_type": "code",
   "execution_count": null,
   "metadata": {},
   "outputs": [],
   "source": [
    "df_temp_answers04 = pd.read_parquet(f\"../data_temp/04 temp_answers.parquet\")\n",
    "df_temp_answers04 = df_temp_answers04.rename(columns={\"documents_to_look_through\": \"ref_sha1\"})\n",
    "df_temp_answers04"
   ]
  },
  {
   "cell_type": "code",
   "execution_count": null,
   "metadata": {},
   "outputs": [],
   "source": [
    "with open(\"../data_in/questions.json\") as f:\n",
    "    questions = json.loads(f.read())\n",
    "questions"
   ]
  },
  {
   "cell_type": "code",
   "execution_count": null,
   "metadata": {},
   "outputs": [],
   "source": [
    "class Question(BaseModel):\n",
    "    text: str\n",
    "    kind: Literal[\"number\", \"name\", \"boolean\", \"names\"]\n",
    "\n",
    "class SourceReference(BaseModel):\n",
    "    pdf_sha1: str = Field(..., description=\"SHA1 hash of the PDF file\")\n",
    "    page_index: int = Field(..., description=\"Physical page number in the PDF file\")\n",
    "\n",
    "class Answer(BaseModel):\n",
    "    question_text: Optional[str] = Field(None, description=\"Text of the question\")\n",
    "    kind: Optional[Literal[\"number\", \"name\", \"boolean\", \"names\"]] = Field(None, description=\"Kind of the question\")\n",
    "    value: Union[float, str, bool, List[str], Literal[\"N/A\"]] = Field(..., description=\"Answer to the question, according to the question schema\")\n",
    "    references: List[SourceReference] = Field([], description=\"References to the source material in the PDF file\")\n",
    "\n",
    "class AnswerSubmission(BaseModel):\n",
    "    team_email: str = Field(..., description=\"Email that your team used to register for the challenge\")\n",
    "    submission_name: str = Field(..., description=\"Unique name of the submission (e.g. experiment name)\")\n",
    "    answers: List[Answer] = Field(..., description=\"List of answers to the questions\")"
   ]
  },
  {
   "cell_type": "code",
   "execution_count": null,
   "metadata": {},
   "outputs": [],
   "source": [
    "res = {\n",
    "    \"team_email\": \"keiv.fly@gmail.com\",\n",
    "    \"submission_name\": \"Sergey Nikonov main v2\",\n",
    "}\n",
    "answers = []\n",
    "for i_row, row in df_temp_answers04.iterrows():\n",
    "    ans = {}\n",
    "    q_text = row[\"q_text\"]\n",
    "    ans[\"question_text\"] = q_text\n",
    "    q_kind = row[\"q_kind\"]\n",
    "    ans[\"kind\"] = q_kind\n",
    "\n",
    "    match q_kind:\n",
    "        case \"number\":\n",
    "            ans_value = \"N/A\"           \n",
    "        case \"name\":\n",
    "            ans_value = \"N/A\"\n",
    "        case \"boolean\":\n",
    "            ans_value = False\n",
    "        case \"names\":\n",
    "            ans_value = \"N/A\"\n",
    "\n",
    "    ans[\"value\"] = ans_value\n",
    "\n",
    "    ans[\"references\"] = []\n",
    "    ans[\"_company_names\"] = list(row[\"company_names\"])\n",
    "    ans[\"_is_multiple_company_names\"] = len(row[\"company_names\"]) > 1\n",
    "    ans[\"_ref_sha1\"] = list(row[\"ref_sha1\"])\n",
    "    ans[\"_q_id\"] = i_row\n",
    "\n",
    "    answers.append(ans)\n",
    "    \n",
    "res[\"answers\"] = answers\n",
    "_ = AnswerSubmission(**res)"
   ]
  },
  {
   "cell_type": "code",
   "execution_count": null,
   "metadata": {},
   "outputs": [],
   "source": [
    "for file in files4questions:\n",
    "    file_content_txt = file.read_text()\n",
    "    # print(file_content_txt)\n",
    "    q_sha1_res = json.loads(file_content_txt)\n",
    "    q_id = q_sha1_res[\"question_id\"]\n",
    "    if q_sha1_res[\"value\"] != \"N/A\":\n",
    "        res[\"answers\"][q_id][\"value\"] = q_sha1_res[\"value\"]\n",
    "        res[\"answers\"][q_id][\"references\"].append({\n",
    "            \"pdf_sha1\": q_sha1_res[\"ref_sha1_i\"],\n",
    "            \"page_index\": q_sha1_res[\"ref_sha1_i_page\"],\n",
    "        })\n",
    "\n",
    "res\n",
    "    "
   ]
  },
  {
   "cell_type": "code",
   "execution_count": null,
   "metadata": {},
   "outputs": [],
   "source": [
    "li(\"Working with questions with multiple companies\")\n",
    "\n",
    "for q_id, item in enumerate(res[\"answers\"]):\n",
    "    if item[\"_is_multiple_company_names\"]:\n",
    "        answers06 = []\n",
    "        for file in files4questions:\n",
    "            file_content_txt = file.read_text()\n",
    "            q_sha1_res = json.loads(file_content_txt)\n",
    "            if q_sha1_res[\"question_id\"] == q_id:\n",
    "                answers06.append(q_sha1_res)\n",
    "        \n",
    "        df_answers06 = pd.DataFrame(answers06)\n",
    "        df_answers06[\"value_float\"] = pd.to_numeric(df_answers06[\"value\"], errors=\"coerce\")\n",
    "        df_answers06_filtered = df_answers06[df_answers06[\"value_float\"].notna()].copy()\n",
    "        q_text = item[\"question_text\"]\n",
    "        if \"lowest\" in q_text:\n",
    "            li(\"lowest\")\n",
    "            df_answers06_filtered = df_answers06_filtered.sort_values(\"value_float\", ascending=True)\n",
    "            df_answers06 = df_answers06.sort_values(\"value_float\", ascending=True)\n",
    "        elif \"highest\" in q_text:\n",
    "            li(\"lowest\")\n",
    "            df_answers06_filtered = df_answers06_filtered.sort_values(\"value_float\", ascending=False)\n",
    "            df_answers06 = df_answers06.sort_values(\"value_float\", ascending=False)\n",
    "        else:\n",
    "            li(\"other\")\n",
    "            df_answers06_filtered = df_answers06_filtered.sort_values(\"value_float\", ascending=True)\n",
    "            df_answers06 = df_answers06.sort_values(\"value_float\", ascending=True)\n",
    "        \n",
    "        if len(df_answers06_filtered) == 0:\n",
    "            val = \"N/A\"\n",
    "        else:\n",
    "            val = df_answers06_filtered[\"company_name\"].iloc[0]\n",
    "\n",
    "        item[\"value\"] = val\n",
    "\n",
    "        df_answers06_filtered_renamed = df_answers06_filtered[[\"ref_sha1_i\",\"ref_sha1_i_page\"]].rename(columns={\"ref_sha1_i\": \"pdf_sha1\", \"ref_sha1_i_page\": \"page_index\"})\n",
    "        refs = df_answers06_filtered_renamed.to_dict('records')\n",
    "        if len(refs) > 0:\n",
    "            item[\"references\"] = refs\n",
    "        else:\n",
    "            item[\"references\"] = []\n",
    "\n",
    "        li(json.dumps(item, indent=4))\n",
    "\n",
    "        filename_csv = f\"q{q_id:04d}.csv\"\n",
    "        folder = pathlib.Path(f\"../data_temp/07_collect_result/\")\n",
    "        folder.mkdir(parents=True, exist_ok=True)\n",
    "        full_filename_csv = folder/ filename_csv\n",
    "        \n",
    "        df_answers06.to_csv(full_filename_csv, index=False)  "
   ]
  },
  {
   "cell_type": "code",
   "execution_count": null,
   "metadata": {},
   "outputs": [],
   "source": [
    "submission_folder_before_submission = now_str\n",
    "pathlib.Path(f\"../data_out/{submission_folder_before_submission}\").mkdir(parents=True, exist_ok=True)\n",
    "with open(f\"../data_out/{submission_folder_before_submission}/submission_w_all.json\", \"w\") as f:\n",
    "    json.dump(res, f, indent=4)"
   ]
  },
  {
   "cell_type": "code",
   "execution_count": null,
   "metadata": {},
   "outputs": [],
   "source": [
    "for ans in res[\"answers\"]:\n",
    "    for key in [\"_company_names\", \"_is_multiple_company_names\", \"_ref_sha1\", \"_q_id\"]:\n",
    "        if key in ans:\n",
    "            del ans[key]\n",
    "\n",
    "with open(f\"../data_out/{submission_folder_before_submission}/submission_wo_additions.json\", \"w\") as f:\n",
    "    json.dump(res, f, indent=4)"
   ]
  },
  {
   "cell_type": "code",
   "execution_count": null,
   "metadata": {},
   "outputs": [],
   "source": [
    "res_json = json.loads(pathlib.Path(f\"../data_out/{submission_folder_before_submission}/submission_wo_additions.json\").read_text())\n",
    "res_json"
   ]
  },
  {
   "cell_type": "code",
   "execution_count": null,
   "metadata": {},
   "outputs": [],
   "source": [
    "url = \"https://rag.timetoact.at/check-submission\"\n",
    "headers = {\"accept\": \"application/json\"}\n",
    "files = {\n",
    "    \"file\": (\"submision.json\", io.BytesIO(json.dumps(res_json).encode()), \"application/json\")\n",
    "}\n",
    "response = httpx.post(url, headers=headers, files=files)\n",
    "response.json()"
   ]
  },
  {
   "cell_type": "code",
   "execution_count": null,
   "metadata": {},
   "outputs": [],
   "source": []
  },
  {
   "cell_type": "code",
   "execution_count": null,
   "metadata": {},
   "outputs": [],
   "source": [
    "url = \"https://rag.timetoact.at/submit\"\n",
    "headers = {\"accept\": \"application/json\"}\n",
    "files = {\n",
    "    \"file\": (\"submision.json\", io.BytesIO(json.dumps(res_json).encode()), \"application/json\")\n",
    "}\n",
    "response = httpx.post(url, headers=headers, files=files)\n",
    "submission_response = response.json()\n",
    "submission_response"
   ]
  },
  {
   "cell_type": "code",
   "execution_count": null,
   "metadata": {},
   "outputs": [],
   "source": [
    "s_datetime = pd.to_datetime(submission_response[\"response\"][\"time\"]).strftime(\"%Y%m%d_%H%M%S\")\n",
    "s_submission_name = submission_response[\"response\"][\"submission_name\"]\n",
    "submission_folder = f\"{s_datetime}_{s_submission_name}\"\n",
    "submission_folder"
   ]
  },
  {
   "cell_type": "code",
   "execution_count": null,
   "metadata": {},
   "outputs": [],
   "source": [
    "pathlib.Path(f\"../data_out/{submission_folder}\").mkdir(parents=True, exist_ok=True)\n",
    "with open(f\"../data_out/{submission_folder}/submission.json\", \"w\") as f:\n",
    "    json.dump(res, f, indent=4)"
   ]
  },
  {
   "cell_type": "code",
   "execution_count": null,
   "metadata": {},
   "outputs": [],
   "source": [
    "with open(f\"../data_out/{submission_folder}/submission_response.json\", \"w\") as f:\n",
    "    json.dump(submission_response, f, indent=4)"
   ]
  },
  {
   "cell_type": "code",
   "execution_count": null,
   "metadata": {},
   "outputs": [],
   "source": []
  }
 ],
 "metadata": {
  "kernelspec": {
   "display_name": "py312",
   "language": "python",
   "name": "python3"
  },
  "language_info": {
   "codemirror_mode": {
    "name": "ipython",
    "version": 3
   },
   "file_extension": ".py",
   "mimetype": "text/x-python",
   "name": "python",
   "nbconvert_exporter": "python",
   "pygments_lexer": "ipython3",
   "version": "3.12.5"
  }
 },
 "nbformat": 4,
 "nbformat_minor": 2
}
