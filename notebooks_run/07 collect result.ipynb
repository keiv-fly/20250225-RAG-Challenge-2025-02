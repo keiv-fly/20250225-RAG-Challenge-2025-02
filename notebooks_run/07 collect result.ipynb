{
 "cells": [
  {
   "cell_type": "code",
   "execution_count": 28,
   "metadata": {},
   "outputs": [],
   "source": [
    "import picologging as logging\n",
    "from pydantic import BaseModel, Field\n",
    "import pandas as pd\n",
    "import httpx\n",
    "\n",
    "import pathlib\n",
    "import datetime\n",
    "import json\n",
    "from typing import Optional, List, Union, Literal"
   ]
  },
  {
   "cell_type": "code",
   "execution_count": 3,
   "metadata": {},
   "outputs": [
    {
     "name": "stderr",
     "output_type": "stream",
     "text": [
      "2025-02-26T23:25:55 | INFO | start\n",
      "2025-02-26T23:25:55 | WARNING | check warning\n"
     ]
    }
   ],
   "source": [
    "now = datetime.datetime.now()\n",
    "now_str = now.strftime(\"%Y%m%d_%H%M%S\")\n",
    "pathlib.Path(f\"../notebooks_logging/07_collect_result\").mkdir(parents=True, exist_ok=True)\n",
    "pathlib.Path(f\"../notebooks_logging/07_collect_result/{now_str}\").mkdir(parents=True, exist_ok=True)\n",
    "\n",
    "file_handler = logging.FileHandler(f\"../notebooks_logging/07_collect_result/{now_str}.log\")\n",
    "stream_handler = logging.StreamHandler()\n",
    "# stdout_formatter = logging.Formatter(fmt=\"%(message)s\") \n",
    "# stream_handler.setFormatter(stdout_formatter)\n",
    "logging.basicConfig(\n",
    "    encoding='utf-8', \n",
    "    format='%(asctime)s | %(levelname)s | %(message)s', \n",
    "    level=logging.INFO, \n",
    "    datefmt='%Y-%m-%dT%H:%M:%S',\n",
    "    handlers=[\n",
    "        file_handler,\n",
    "        stream_handler,\n",
    "    ],\n",
    "    force=True\n",
    ")\n",
    "logger = logging.getLogger()\n",
    "logger.setLevel(logging.INFO)\n",
    "li = logger.info\n",
    "lw = logger.warning\n",
    "li(\"start\")\n",
    "lw(\"check warning\")"
   ]
  },
  {
   "cell_type": "code",
   "execution_count": 11,
   "metadata": {},
   "outputs": [
    {
     "name": "stderr",
     "output_type": "stream",
     "text": [
      "2025-02-26T23:30:04 | INFO | files4questions=\n",
      "..\\data_temp\\06_ask_questions\\q0000_63688d5d0b4f12e9f847c5407439a1ec46047a4a.json\n",
      "..\\data_temp\\06_ask_questions\\q0001_9cc771c2171bacc138cda4e7d68b8b427a514d81.json\n",
      "..\\data_temp\\06_ask_questions\\q0002_9cc771c2171bacc138cda4e7d68b8b427a514d81.json\n",
      "..\\data_temp\\06_ask_questions\\q0003_a6f23184a87f3343f17e8e8ed08f604615cdefc1.json\n"
     ]
    }
   ],
   "source": [
    "files4questions = list(pathlib.Path(\"../data_temp/06_ask_questions\").glob(\"*\"))\n",
    "li(f\"files4questions=\\n{\"\\n\".join(str(x) for x in files4questions)}\")"
   ]
  },
  {
   "cell_type": "code",
   "execution_count": 13,
   "metadata": {},
   "outputs": [
    {
     "data": {
      "text/plain": [
       "[{'text': \"According to the annual report, what is the Operating margin (%) for Altech Chemicals Ltd  (within the last period or at the end of the last period)? If data is not available, return 'N/A'.\",\n",
       "  'kind': 'number'},\n",
       " {'text': \"According to the annual report, what is the Operating margin (%) for Cofinimmo  (within the last period or at the end of the last period)? If data is not available, return 'N/A'.\",\n",
       "  'kind': 'number'},\n",
       " {'text': 'Did Cofinimmo outline any new ESG initiatives in the annual report?',\n",
       "  'kind': 'boolean'},\n",
       " {'text': \"What is the total number of employees let go by Hagerty, Inc. according to the annual report? If data is not available, return 'N/A'.\",\n",
       "  'kind': 'number'},\n",
       " {'text': \"Which leadership **positions** changed at Renold plc in the reporting period? If data is not available, return 'N/A'.\",\n",
       "  'kind': 'names'},\n",
       " {'text': \"What was the Gross margin (%) for Charles & Colvard, Ltd. according to the annual report (within the last period or at the end of the last period)? If data is not available, return 'N/A'.\",\n",
       "  'kind': 'number'},\n",
       " {'text': \"What was the Capital expenditures (in GBP) for Harworth Group plc according to the annual report (within the last period or at the end of the last period)? If data is not available, return 'N/A'.\",\n",
       "  'kind': 'number'},\n",
       " {'text': \"What was the Capital expenditures (in USD) for Charles & Colvard, Ltd. according to the annual report (within the last period or at the end of the last period)? If data is not available, return 'N/A'.\",\n",
       "  'kind': 'number'},\n",
       " {'text': 'What are the names of new products launched by Zymeworks Inc. as mentioned in the annual report?',\n",
       "  'kind': 'names'},\n",
       " {'text': \"For Lipocine Inc., what was the value of Number of diagnostic centers at year-end at the end of the period listed in annual report? If data is not available, return 'N/A'.\",\n",
       "  'kind': 'number'},\n",
       " {'text': \"According to the annual report, what is the Total revenue (in USD) for Winnebago Industries, Inc.  (within the last period or at the end of the last period)? If data is not available, return 'N/A'.\",\n",
       "  'kind': 'number'},\n",
       " {'text': \"For Lipocine Inc., what was the value of Value of medical equipment (balance sheet) at the end of the period listed in annual report? If data is not available, return 'N/A'.\",\n",
       "  'kind': 'number'},\n",
       " {'text': \"According to the annual report, what is the Operating margin (%) for Audalia Resources Limited  (within the last period or at the end of the last period)? If data is not available, return 'N/A'.\",\n",
       "  'kind': 'number'},\n",
       " {'text': \"According to the annual report, what is the Total revenue (in USD) for Lipocine Inc.  (within the last period or at the end of the last period)? If data is not available, return 'N/A'.\",\n",
       "  'kind': 'number'},\n",
       " {'text': 'Did Charles & Colvard, Ltd. mention any ongoing litigation or regulatory inquiries?',\n",
       "  'kind': 'boolean'},\n",
       " {'text': \"Which leadership **positions** changed at Enerflex Ltd. in the reporting period? If data is not available, return 'N/A'.\",\n",
       "  'kind': 'names'},\n",
       " {'text': 'Did HV Bancorp, Inc. mention any mergers or acquisitions in the annual report?',\n",
       "  'kind': 'boolean'},\n",
       " {'text': \"For Alien Metals Limited, what was the value of End-of-year total headcount at the end of the period listed in annual report? If data is not available, return 'N/A'.\",\n",
       "  'kind': 'number'},\n",
       " {'text': \"For Renold plc, what was the value of Warehouse capacity (cubic ft.) at the end of the period listed in annual report? If data is not available, return 'N/A'.\",\n",
       "  'kind': 'number'},\n",
       " {'text': \"According to the annual report, what is the Operating margin (%) for Lipocine Inc.  (within the last period or at the end of the last period)? If data is not available, return 'N/A'.\",\n",
       "  'kind': 'number'},\n",
       " {'text': \"According to the annual report, what is the Total revenue (in EUR) for Cofinimmo  (within the last period or at the end of the last period)? If data is not available, return 'N/A'.\",\n",
       "  'kind': 'number'},\n",
       " {'text': 'Did Canadian Tire Corporation announce a share buyback plan in the annual report?',\n",
       "  'kind': 'boolean'},\n",
       " {'text': \"Which leadership **positions** changed at Canadian Tire Corporation in the reporting period? If data is not available, return 'N/A'.\",\n",
       "  'kind': 'names'},\n",
       " {'text': 'Did LVMH mention any mergers or acquisitions in the annual report?',\n",
       "  'kind': 'boolean'},\n",
       " {'text': \"For Winnebago Industries, Inc., what was the value of Number of hybrid models available at the end of the period listed in annual report? If data is not available, return 'N/A'.\",\n",
       "  'kind': 'number'},\n",
       " {'text': \"For Johns Lyng Group Limited, what was the value of Total expensed R&D expenditure at the end of the period listed in annual report? If data is not available, return 'N/A'.\",\n",
       "  'kind': 'number'},\n",
       " {'text': 'Did Cofinimmo announce any changes to its dividend policy in the annual report?',\n",
       "  'kind': 'boolean'},\n",
       " {'text': \"What was the value of Distribution network length of Maxeon Solar Technologies, Ltd. at the end of the period listed in annual report? If data is not available, return 'N/A'.\",\n",
       "  'kind': 'number'},\n",
       " {'text': \"What was the value of Healthcare plan memberships (if applicable) of Nevro Corp. at the end of the period listed in annual report? If data is not available, return 'N/A'.\",\n",
       "  'kind': 'number'},\n",
       " {'text': 'What was the largest single spending of Maxeon Solar Technologies, Ltd. on executive compensation in USD?',\n",
       "  'kind': 'name'}]"
      ]
     },
     "execution_count": 13,
     "metadata": {},
     "output_type": "execute_result"
    }
   ],
   "source": [
    "with open(\"../data_in/questions.json\") as f:\n",
    "    questions = json.loads(f.read())\n",
    "questions"
   ]
  },
  {
   "cell_type": "code",
   "execution_count": 16,
   "metadata": {},
   "outputs": [],
   "source": [
    "class Question(BaseModel):\n",
    "    text: str\n",
    "    kind: Literal[\"number\", \"name\", \"boolean\", \"names\"]\n",
    "\n",
    "class SourceReference(BaseModel):\n",
    "    pdf_sha1: str = Field(..., description=\"SHA1 hash of the PDF file\")\n",
    "    page_index: int = Field(..., description=\"Physical page number in the PDF file\")\n",
    "\n",
    "class Answer(BaseModel):\n",
    "    question_text: Optional[str] = Field(None, description=\"Text of the question\")\n",
    "    kind: Optional[Literal[\"number\", \"name\", \"boolean\", \"names\"]] = Field(None, description=\"Kind of the question\")\n",
    "    value: Union[float, str, bool, List[str], Literal[\"N/A\"]] = Field(..., description=\"Answer to the question, according to the question schema\")\n",
    "    references: List[SourceReference] = Field([], description=\"References to the source material in the PDF file\")\n",
    "\n",
    "class AnswerSubmission(BaseModel):\n",
    "    team_email: str = Field(..., description=\"Email that your team used to register for the challenge\")\n",
    "    submission_name: str = Field(..., description=\"Unique name of the submission (e.g. experiment name)\")\n",
    "    answers: List[Answer] = Field(..., description=\"List of answers to the questions\")"
   ]
  },
  {
   "cell_type": "code",
   "execution_count": null,
   "metadata": {},
   "outputs": [
    {
     "data": {
      "text/plain": [
       "AnswerSubmission(team_email='keiv.fly@gmail.com', submission_name='main', answers=[Answer(question_text=\"According to the annual report, what is the Operating margin (%) for Altech Chemicals Ltd  (within the last period or at the end of the last period)? If data is not available, return 'N/A'.\", kind='number', value='N/A', references=[]), Answer(question_text=\"According to the annual report, what is the Operating margin (%) for Cofinimmo  (within the last period or at the end of the last period)? If data is not available, return 'N/A'.\", kind='number', value='N/A', references=[]), Answer(question_text='Did Cofinimmo outline any new ESG initiatives in the annual report?', kind='boolean', value='N/A', references=[]), Answer(question_text=\"What is the total number of employees let go by Hagerty, Inc. according to the annual report? If data is not available, return 'N/A'.\", kind='number', value='N/A', references=[]), Answer(question_text=\"Which leadership **positions** changed at Renold plc in the reporting period? If data is not available, return 'N/A'.\", kind='names', value='N/A', references=[]), Answer(question_text=\"What was the Gross margin (%) for Charles & Colvard, Ltd. according to the annual report (within the last period or at the end of the last period)? If data is not available, return 'N/A'.\", kind='number', value='N/A', references=[]), Answer(question_text=\"What was the Capital expenditures (in GBP) for Harworth Group plc according to the annual report (within the last period or at the end of the last period)? If data is not available, return 'N/A'.\", kind='number', value='N/A', references=[]), Answer(question_text=\"What was the Capital expenditures (in USD) for Charles & Colvard, Ltd. according to the annual report (within the last period or at the end of the last period)? If data is not available, return 'N/A'.\", kind='number', value='N/A', references=[]), Answer(question_text='What are the names of new products launched by Zymeworks Inc. as mentioned in the annual report?', kind='names', value='N/A', references=[]), Answer(question_text=\"For Lipocine Inc., what was the value of Number of diagnostic centers at year-end at the end of the period listed in annual report? If data is not available, return 'N/A'.\", kind='number', value='N/A', references=[]), Answer(question_text=\"According to the annual report, what is the Total revenue (in USD) for Winnebago Industries, Inc.  (within the last period or at the end of the last period)? If data is not available, return 'N/A'.\", kind='number', value='N/A', references=[]), Answer(question_text=\"For Lipocine Inc., what was the value of Value of medical equipment (balance sheet) at the end of the period listed in annual report? If data is not available, return 'N/A'.\", kind='number', value='N/A', references=[]), Answer(question_text=\"According to the annual report, what is the Operating margin (%) for Audalia Resources Limited  (within the last period or at the end of the last period)? If data is not available, return 'N/A'.\", kind='number', value='N/A', references=[]), Answer(question_text=\"According to the annual report, what is the Total revenue (in USD) for Lipocine Inc.  (within the last period or at the end of the last period)? If data is not available, return 'N/A'.\", kind='number', value='N/A', references=[]), Answer(question_text='Did Charles & Colvard, Ltd. mention any ongoing litigation or regulatory inquiries?', kind='boolean', value='N/A', references=[]), Answer(question_text=\"Which leadership **positions** changed at Enerflex Ltd. in the reporting period? If data is not available, return 'N/A'.\", kind='names', value='N/A', references=[]), Answer(question_text='Did HV Bancorp, Inc. mention any mergers or acquisitions in the annual report?', kind='boolean', value='N/A', references=[]), Answer(question_text=\"For Alien Metals Limited, what was the value of End-of-year total headcount at the end of the period listed in annual report? If data is not available, return 'N/A'.\", kind='number', value='N/A', references=[]), Answer(question_text=\"For Renold plc, what was the value of Warehouse capacity (cubic ft.) at the end of the period listed in annual report? If data is not available, return 'N/A'.\", kind='number', value='N/A', references=[]), Answer(question_text=\"According to the annual report, what is the Operating margin (%) for Lipocine Inc.  (within the last period or at the end of the last period)? If data is not available, return 'N/A'.\", kind='number', value='N/A', references=[]), Answer(question_text=\"According to the annual report, what is the Total revenue (in EUR) for Cofinimmo  (within the last period or at the end of the last period)? If data is not available, return 'N/A'.\", kind='number', value='N/A', references=[]), Answer(question_text='Did Canadian Tire Corporation announce a share buyback plan in the annual report?', kind='boolean', value='N/A', references=[]), Answer(question_text=\"Which leadership **positions** changed at Canadian Tire Corporation in the reporting period? If data is not available, return 'N/A'.\", kind='names', value='N/A', references=[]), Answer(question_text='Did LVMH mention any mergers or acquisitions in the annual report?', kind='boolean', value='N/A', references=[]), Answer(question_text=\"For Winnebago Industries, Inc., what was the value of Number of hybrid models available at the end of the period listed in annual report? If data is not available, return 'N/A'.\", kind='number', value='N/A', references=[]), Answer(question_text=\"For Johns Lyng Group Limited, what was the value of Total expensed R&D expenditure at the end of the period listed in annual report? If data is not available, return 'N/A'.\", kind='number', value='N/A', references=[]), Answer(question_text='Did Cofinimmo announce any changes to its dividend policy in the annual report?', kind='boolean', value='N/A', references=[]), Answer(question_text=\"What was the value of Distribution network length of Maxeon Solar Technologies, Ltd. at the end of the period listed in annual report? If data is not available, return 'N/A'.\", kind='number', value='N/A', references=[]), Answer(question_text=\"What was the value of Healthcare plan memberships (if applicable) of Nevro Corp. at the end of the period listed in annual report? If data is not available, return 'N/A'.\", kind='number', value='N/A', references=[]), Answer(question_text='What was the largest single spending of Maxeon Solar Technologies, Ltd. on executive compensation in USD?', kind='name', value='N/A', references=[])])"
      ]
     },
     "execution_count": 17,
     "metadata": {},
     "output_type": "execute_result"
    }
   ],
   "source": [
    "res = {\n",
    "    \"team_email\": \"keiv.fly@gmail.com\",\n",
    "    \"submission_name\": \"main\",\n",
    "}\n",
    "answers = []\n",
    "for question in questions:\n",
    "    ans = {}\n",
    "    q_text = question[\"text\"]\n",
    "    ans[\"question_text\"] = q_text\n",
    "    q_kind = question[\"kind\"]\n",
    "    ans[\"kind\"] = q_kind\n",
    "\n",
    "    match q_kind:\n",
    "        case \"number\":\n",
    "            ans_value = \"N/A\"           \n",
    "        case \"name\":\n",
    "            ans_value = \"N/A\"\n",
    "        case \"boolean\":\n",
    "            ans_value = False\n",
    "        case \"names\":\n",
    "            ans_value = \"N/A\"\n",
    "\n",
    "    ans[\"value\"] = ans_value\n",
    "\n",
    "    ans[\"references\"] = []\n",
    "    answers.append(ans)\n",
    "    \n",
    "res[\"answers\"] = answers\n",
    "_ = AnswerSubmission(**res)"
   ]
  },
  {
   "cell_type": "code",
   "execution_count": 26,
   "metadata": {},
   "outputs": [
    {
     "data": {
      "text/plain": [
       "{'team_email': 'keiv.fly@gmail.com',\n",
       " 'submission_name': 'main',\n",
       " 'answers': [{'question_text': \"According to the annual report, what is the Operating margin (%) for Altech Chemicals Ltd  (within the last period or at the end of the last period)? If data is not available, return 'N/A'.\",\n",
       "   'kind': 'number',\n",
       "   'value': 'N/A',\n",
       "   'references': []},\n",
       "  {'question_text': \"According to the annual report, what is the Operating margin (%) for Cofinimmo  (within the last period or at the end of the last period)? If data is not available, return 'N/A'.\",\n",
       "   'kind': 'number',\n",
       "   'value': 81.0,\n",
       "   'references': [{'pdf_sha1': '9cc771c2171bacc138cda4e7d68b8b427a514d81',\n",
       "     'page_index': 18}]},\n",
       "  {'question_text': 'Did Cofinimmo outline any new ESG initiatives in the annual report?',\n",
       "   'kind': 'boolean',\n",
       "   'value': True,\n",
       "   'references': [{'pdf_sha1': '9cc771c2171bacc138cda4e7d68b8b427a514d81',\n",
       "     'page_index': 20}]},\n",
       "  {'question_text': \"What is the total number of employees let go by Hagerty, Inc. according to the annual report? If data is not available, return 'N/A'.\",\n",
       "   'kind': 'number',\n",
       "   'value': 'N/A',\n",
       "   'references': []},\n",
       "  {'question_text': \"Which leadership **positions** changed at Renold plc in the reporting period? If data is not available, return 'N/A'.\",\n",
       "   'kind': 'names',\n",
       "   'value': 'N/A',\n",
       "   'references': []},\n",
       "  {'question_text': \"What was the Gross margin (%) for Charles & Colvard, Ltd. according to the annual report (within the last period or at the end of the last period)? If data is not available, return 'N/A'.\",\n",
       "   'kind': 'number',\n",
       "   'value': 'N/A',\n",
       "   'references': []},\n",
       "  {'question_text': \"What was the Capital expenditures (in GBP) for Harworth Group plc according to the annual report (within the last period or at the end of the last period)? If data is not available, return 'N/A'.\",\n",
       "   'kind': 'number',\n",
       "   'value': 'N/A',\n",
       "   'references': []},\n",
       "  {'question_text': \"What was the Capital expenditures (in USD) for Charles & Colvard, Ltd. according to the annual report (within the last period or at the end of the last period)? If data is not available, return 'N/A'.\",\n",
       "   'kind': 'number',\n",
       "   'value': 'N/A',\n",
       "   'references': []},\n",
       "  {'question_text': 'What are the names of new products launched by Zymeworks Inc. as mentioned in the annual report?',\n",
       "   'kind': 'names',\n",
       "   'value': 'N/A',\n",
       "   'references': []},\n",
       "  {'question_text': \"For Lipocine Inc., what was the value of Number of diagnostic centers at year-end at the end of the period listed in annual report? If data is not available, return 'N/A'.\",\n",
       "   'kind': 'number',\n",
       "   'value': 'N/A',\n",
       "   'references': []},\n",
       "  {'question_text': \"According to the annual report, what is the Total revenue (in USD) for Winnebago Industries, Inc.  (within the last period or at the end of the last period)? If data is not available, return 'N/A'.\",\n",
       "   'kind': 'number',\n",
       "   'value': 'N/A',\n",
       "   'references': []},\n",
       "  {'question_text': \"For Lipocine Inc., what was the value of Value of medical equipment (balance sheet) at the end of the period listed in annual report? If data is not available, return 'N/A'.\",\n",
       "   'kind': 'number',\n",
       "   'value': 'N/A',\n",
       "   'references': []},\n",
       "  {'question_text': \"According to the annual report, what is the Operating margin (%) for Audalia Resources Limited  (within the last period or at the end of the last period)? If data is not available, return 'N/A'.\",\n",
       "   'kind': 'number',\n",
       "   'value': 'N/A',\n",
       "   'references': []},\n",
       "  {'question_text': \"According to the annual report, what is the Total revenue (in USD) for Lipocine Inc.  (within the last period or at the end of the last period)? If data is not available, return 'N/A'.\",\n",
       "   'kind': 'number',\n",
       "   'value': 'N/A',\n",
       "   'references': []},\n",
       "  {'question_text': 'Did Charles & Colvard, Ltd. mention any ongoing litigation or regulatory inquiries?',\n",
       "   'kind': 'boolean',\n",
       "   'value': 'N/A',\n",
       "   'references': []},\n",
       "  {'question_text': \"Which leadership **positions** changed at Enerflex Ltd. in the reporting period? If data is not available, return 'N/A'.\",\n",
       "   'kind': 'names',\n",
       "   'value': 'N/A',\n",
       "   'references': []},\n",
       "  {'question_text': 'Did HV Bancorp, Inc. mention any mergers or acquisitions in the annual report?',\n",
       "   'kind': 'boolean',\n",
       "   'value': 'N/A',\n",
       "   'references': []},\n",
       "  {'question_text': \"For Alien Metals Limited, what was the value of End-of-year total headcount at the end of the period listed in annual report? If data is not available, return 'N/A'.\",\n",
       "   'kind': 'number',\n",
       "   'value': 'N/A',\n",
       "   'references': []},\n",
       "  {'question_text': \"For Renold plc, what was the value of Warehouse capacity (cubic ft.) at the end of the period listed in annual report? If data is not available, return 'N/A'.\",\n",
       "   'kind': 'number',\n",
       "   'value': 'N/A',\n",
       "   'references': []},\n",
       "  {'question_text': \"According to the annual report, what is the Operating margin (%) for Lipocine Inc.  (within the last period or at the end of the last period)? If data is not available, return 'N/A'.\",\n",
       "   'kind': 'number',\n",
       "   'value': 'N/A',\n",
       "   'references': []},\n",
       "  {'question_text': \"According to the annual report, what is the Total revenue (in EUR) for Cofinimmo  (within the last period or at the end of the last period)? If data is not available, return 'N/A'.\",\n",
       "   'kind': 'number',\n",
       "   'value': 'N/A',\n",
       "   'references': []},\n",
       "  {'question_text': 'Did Canadian Tire Corporation announce a share buyback plan in the annual report?',\n",
       "   'kind': 'boolean',\n",
       "   'value': 'N/A',\n",
       "   'references': []},\n",
       "  {'question_text': \"Which leadership **positions** changed at Canadian Tire Corporation in the reporting period? If data is not available, return 'N/A'.\",\n",
       "   'kind': 'names',\n",
       "   'value': 'N/A',\n",
       "   'references': []},\n",
       "  {'question_text': 'Did LVMH mention any mergers or acquisitions in the annual report?',\n",
       "   'kind': 'boolean',\n",
       "   'value': 'N/A',\n",
       "   'references': []},\n",
       "  {'question_text': \"For Winnebago Industries, Inc., what was the value of Number of hybrid models available at the end of the period listed in annual report? If data is not available, return 'N/A'.\",\n",
       "   'kind': 'number',\n",
       "   'value': 'N/A',\n",
       "   'references': []},\n",
       "  {'question_text': \"For Johns Lyng Group Limited, what was the value of Total expensed R&D expenditure at the end of the period listed in annual report? If data is not available, return 'N/A'.\",\n",
       "   'kind': 'number',\n",
       "   'value': 'N/A',\n",
       "   'references': []},\n",
       "  {'question_text': 'Did Cofinimmo announce any changes to its dividend policy in the annual report?',\n",
       "   'kind': 'boolean',\n",
       "   'value': 'N/A',\n",
       "   'references': []},\n",
       "  {'question_text': \"What was the value of Distribution network length of Maxeon Solar Technologies, Ltd. at the end of the period listed in annual report? If data is not available, return 'N/A'.\",\n",
       "   'kind': 'number',\n",
       "   'value': 'N/A',\n",
       "   'references': []},\n",
       "  {'question_text': \"What was the value of Healthcare plan memberships (if applicable) of Nevro Corp. at the end of the period listed in annual report? If data is not available, return 'N/A'.\",\n",
       "   'kind': 'number',\n",
       "   'value': 'N/A',\n",
       "   'references': []},\n",
       "  {'question_text': 'What was the largest single spending of Maxeon Solar Technologies, Ltd. on executive compensation in USD?',\n",
       "   'kind': 'name',\n",
       "   'value': 'N/A',\n",
       "   'references': []}]}"
      ]
     },
     "execution_count": 26,
     "metadata": {},
     "output_type": "execute_result"
    }
   ],
   "source": [
    "for file in files4questions:\n",
    "    file_content_txt = file.read_text()\n",
    "    # print(file_content_txt)\n",
    "    q_sha1_res = json.loads(file_content_txt)\n",
    "    q_id = q_sha1_res[\"question_id\"]\n",
    "    if q_sha1_res[\"value\"] != \"N/A\":\n",
    "        res[\"answers\"][q_id][\"value\"] = q_sha1_res[\"value\"]\n",
    "        res[\"answers\"][q_id][\"references\"].append({\n",
    "            \"pdf_sha1\": q_sha1_res[\"ref_sha1_i\"],\n",
    "            \"page_index\": q_sha1_res[\"ref_sha1_i_page\"],\n",
    "        })\n",
    "\n",
    "res\n",
    "    "
   ]
  },
  {
   "cell_type": "code",
   "execution_count": null,
   "metadata": {},
   "outputs": [],
   "source": [
    "submission_folder_before_submission = now_str\n",
    "pathlib.Path(f\"../data_out/{submission_folder_before_submission}\").mkdir(parents=True, exist_ok=True)\n",
    "with open(f\"../data_out/{submission_folder_before_submission}/submission.json\", \"w\") as f:\n",
    "    json.dump(res, f, indent=4)"
   ]
  },
  {
   "cell_type": "code",
   "execution_count": null,
   "metadata": {},
   "outputs": [],
   "source": [
    "url = \"https://rag.timetoact.at/check-submission\"\n",
    "headers = {\"accept\": \"application/json\"}\n",
    "files = {\n",
    "    \"file\": (\"submision.json\", io.BytesIO(json.dumps(res).encode()), \"application/json\")\n",
    "}\n",
    "response = httpx.post(url, headers=headers, files=files)\n",
    "response.json()"
   ]
  },
  {
   "cell_type": "code",
   "execution_count": null,
   "metadata": {},
   "outputs": [],
   "source": [
    "# url = \"https://rag.timetoact.at/submit\"\n",
    "# headers = {\"accept\": \"application/json\"}\n",
    "# files = {\n",
    "#     \"file\": (\"submision.json\", io.BytesIO(json.dumps(res).encode()), \"application/json\")\n",
    "# }\n",
    "# response = httpx.post(url, headers=headers, files=files)\n",
    "# submission_response = response.json()\n",
    "# submission_response"
   ]
  },
  {
   "cell_type": "code",
   "execution_count": null,
   "metadata": {},
   "outputs": [],
   "source": [
    "s_datetime = pd.to_datetime(submission_response[\"response\"][\"time\"]).strftime(\"%Y%m%d_%H%M%S\")\n",
    "s_submission_name = submission_response[\"response\"][\"submission_name\"]\n",
    "submission_folder = f\"{s_datetime}_{s_submission_name}\"\n",
    "submission_folder"
   ]
  },
  {
   "cell_type": "code",
   "execution_count": null,
   "metadata": {},
   "outputs": [],
   "source": [
    "pathlib.Path(f\"../data_out/{submission_folder}\").mkdir(parents=True, exist_ok=True)\n",
    "with open(f\"../data_out/{submission_folder}/submission.json\", \"w\") as f:\n",
    "    json.dump(res, f, indent=4)"
   ]
  },
  {
   "cell_type": "code",
   "execution_count": null,
   "metadata": {},
   "outputs": [],
   "source": [
    "with open(f\"../data_out/{submission_folder}/submission_response.json\", \"w\") as f:\n",
    "    json.dump(submission_response, f, indent=4)"
   ]
  }
 ],
 "metadata": {
  "kernelspec": {
   "display_name": "py312",
   "language": "python",
   "name": "python3"
  },
  "language_info": {
   "codemirror_mode": {
    "name": "ipython",
    "version": 3
   },
   "file_extension": ".py",
   "mimetype": "text/x-python",
   "name": "python",
   "nbconvert_exporter": "python",
   "pygments_lexer": "ipython3",
   "version": "3.12.5"
  }
 },
 "nbformat": 4,
 "nbformat_minor": 2
}
